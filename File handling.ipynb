{
 "cells": [
  {
   "cell_type": "code",
   "execution_count": 2,
   "metadata": {},
   "outputs": [
    {
     "data": {
      "text/plain": [
       "'A machine gun is a fully automatic firearm designed for rapid, sustained fire. Other fully automatic weapons, \\nsuch as assault rifles and submachine guns, are not designed for sustained fire, and not considered machine guns.\\na class of military rapid-fire guns, machine guns are fully automatic weapons designed to be used as support weapons[definition needed] and generally used when attached to a\\n mount or fired from the ground on a bipod or tripod. Many machine guns also use belt feeding and open bolt operation, features not normally found on other weapons.'"
      ]
     },
     "execution_count": 2,
     "metadata": {},
     "output_type": "execute_result"
    }
   ],
   "source": [
    "file=open(\"Machine Gun.txt\",\"r\")\n",
    "file.read()"
   ]
  },
  {
   "cell_type": "code",
   "execution_count": 3,
   "metadata": {},
   "outputs": [
    {
     "name": "stdout",
     "output_type": "stream",
     "text": [
      "A machine gun is a fully automatic firearm designed for rapid, sustained fire. Other fully automatic weapons, \n",
      "\n"
     ]
    }
   ],
   "source": [
    "with open(\"Machine Gun.txt\",\"r\")as file:\n",
    "    print(file.readline())\n",
    "    "
   ]
  },
  {
   "cell_type": "markdown",
   "metadata": {},
   "source": [
    "#writing file\n"
   ]
  },
  {
   "cell_type": "code",
   "execution_count": 7,
   "metadata": {},
   "outputs": [],
   "source": [
    "with open(\"mask.txt\",\"w\")as file:\n",
    "    file.writelines(\"hello everyone ,\\n are u happy\")"
   ]
  },
  {
   "cell_type": "markdown",
   "metadata": {},
   "source": [
    "#tell(),seek()"
   ]
  }
 ],
 "metadata": {
  "kernelspec": {
   "display_name": "Python 3",
   "language": "python",
   "name": "python3"
  },
  "language_info": {
   "codemirror_mode": {
    "name": "ipython",
    "version": 3
   },
   "file_extension": ".py",
   "mimetype": "text/x-python",
   "name": "python",
   "nbconvert_exporter": "python",
   "pygments_lexer": "ipython3",
   "version": "3.8.3"
  }
 },
 "nbformat": 4,
 "nbformat_minor": 4
}

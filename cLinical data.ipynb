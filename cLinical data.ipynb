{
 "cells": [
  {
   "cell_type": "code",
   "execution_count": 3,
   "metadata": {},
   "outputs": [
    {
     "name": "stdout",
     "output_type": "stream",
     "text": [
      "harsh\n",
      "bp\n",
      "80/120\n",
      "heartrate\n",
      "72\n"
     ]
    }
   ],
   "source": [
    "class Patient:\n",
    "    def __init__(self,name,age):\n",
    "        self.name=name\n",
    "        self.age=age\n",
    "        self.Clinical=[]\n",
    "        \n",
    "    def addClinicalData(self,Clinical):\n",
    "        self.Clinical.append(Clinical)\n",
    "        \n",
    "class Clinical:\n",
    "    def __init__(self,componentname,componentvalue):\n",
    "        self.componentname=componentname\n",
    "        self.componentvalue=componentvalue\n",
    "        \n",
    "        \n",
    "        \n",
    "p=Patient('harsh',21)\n",
    "c1= Clinical('bp','80/120')\n",
    "p.addClinicalData(c1)\n",
    "c2= Clinical('heartrate',72)\n",
    "p.addClinicalData(c2)\n",
    "\n",
    "\n",
    "\n",
    "print(p.name)\n",
    "for eachClinical in p.Clinical:\n",
    "    print(eachClinical.componentname)\n",
    "    print(eachClinical.componentvalue)\n",
    "\n",
    "        "
   ]
  },
  {
   "cell_type": "code",
   "execution_count": null,
   "metadata": {},
   "outputs": [],
   "source": []
  },
  {
   "cell_type": "code",
   "execution_count": null,
   "metadata": {},
   "outputs": [],
   "source": []
  },
  {
   "cell_type": "code",
   "execution_count": null,
   "metadata": {},
   "outputs": [],
   "source": []
  },
  {
   "cell_type": "code",
   "execution_count": null,
   "metadata": {},
   "outputs": [],
   "source": []
  }
 ],
 "metadata": {
  "kernelspec": {
   "display_name": "Python 3",
   "language": "python",
   "name": "python3"
  },
  "language_info": {
   "codemirror_mode": {
    "name": "ipython",
    "version": 3
   },
   "file_extension": ".py",
   "mimetype": "text/x-python",
   "name": "python",
   "nbconvert_exporter": "python",
   "pygments_lexer": "ipython3",
   "version": "3.8.3"
  }
 },
 "nbformat": 4,
 "nbformat_minor": 4
}

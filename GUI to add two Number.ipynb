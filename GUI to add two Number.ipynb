{
 "cells": [
  {
   "cell_type": "code",
   "execution_count": null,
   "metadata": {},
   "outputs": [],
   "source": [
    "from tkinter import *\n",
    "from tkinter import messagebox\n",
    "master=Tk()\n",
    "def add():\n",
    "    x=int(num1.get())\n",
    "    y=int(num2.get())\n",
    "    result=x+y\n",
    "    messagebox.showinfo(\"Solution\",\"The answer is{}\".format(str(result)))\n",
    "    \n",
    "\n",
    "label1=Label(master,text=\"Enter Number1:\")\n",
    "label2=Label(master,text=\"Enter Number2:\")\n",
    "num1=Entry(master)\n",
    "num2=Entry(master)\n",
    "Button1=Button(master,text=\"Add\",padx=40,pady=20,command=add)\n",
    "Button2=Button(master,text=\"Exit\",padx=40,pady=20,command=add)\n",
    "label1.grid(row=0,column=0)\n",
    "label2.grid(row=1,column=0)\n",
    "num1.grid(row=0,column=1)\n",
    "num2.grid(row=1,column=1)\n",
    "Button1.grid(row=2,column=0,columnspan=2)\n",
    "Button2.grid(row=3,column=0,columnspan=2)\n",
    "master.mainloop()"
   ]
  },
  {
   "cell_type": "code",
   "execution_count": null,
   "metadata": {},
   "outputs": [],
   "source": [
    "from tkinter import *\n",
    "from tkinter import messagebox\n",
    "master=Tk()\n",
    "font_format=(\"Helvetica\",17,\"bold italic\")\n",
    "def add():\n",
    "    try:\n",
    "        x=int(num1.get())\n",
    "        y=int(num2.get())\n",
    "        result=x+y\n",
    "        messagebox.showinfo(\"Solution\",\"The answer is{}\".format(str(result)))\n",
    "    except:\n",
    "        messagebox.showerror(\"Error\",\"The value is invalid\")    \n",
    "    \n",
    "\n",
    "label1=Label(master,text=\"Enter Number1:\",font=font_format)\n",
    "label2=Label(master,text=\"Enter Number2:\",font=font_format)\n",
    "num1=Entry(master)\n",
    "num2=Entry(master)\n",
    "Button1=Button(master,text=\"Add\",padx=40,pady=20,command=add,font=font_format)\n",
    "Button2=Button(master,text=\"Exit\",padx=40,pady=20,command=master.quit,font=font_format)\n",
    "label1.grid(row=0,column=0)\n",
    "label2.grid(row=1,column=0)\n",
    "num1.grid(row=0,column=1)\n",
    "num2.grid(row=1,column=1)\n",
    "Button1.grid(row=2,column=0,columnspan=2)\n",
    "Button2.grid(row=3,column=0,columnspan=2)\n",
    "master.mainloop()"
   ]
  }
 ],
 "metadata": {
  "kernelspec": {
   "display_name": "Python 3",
   "language": "python",
   "name": "python3"
  },
  "language_info": {
   "codemirror_mode": {
    "name": "ipython",
    "version": 3
   },
   "file_extension": ".py",
   "mimetype": "text/x-python",
   "name": "python",
   "nbconvert_exporter": "python",
   "pygments_lexer": "ipython3",
   "version": "3.8.3"
  }
 },
 "nbformat": 4,
 "nbformat_minor": 4
}

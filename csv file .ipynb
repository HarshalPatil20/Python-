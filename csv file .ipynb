{
 "cells": [
  {
   "cell_type": "code",
   "execution_count": 2,
   "metadata": {},
   "outputs": [],
   "source": [
    "import csv"
   ]
  },
  {
   "cell_type": "code",
   "execution_count": 4,
   "metadata": {},
   "outputs": [],
   "source": [
    "with open(\"data.csv\",\"w\")as file:\n",
    "    write_obj=csv.writer(file)\n",
    "    write_obj.writerow(['Name','Age','Contact'])\n",
    "    write_obj.writerow(['Hrahl','20','9730942181'])\n",
    "    "
   ]
  },
  {
   "cell_type": "code",
   "execution_count": 5,
   "metadata": {},
   "outputs": [
    {
     "name": "stdout",
     "output_type": "stream",
     "text": [
      "['Name', 'Age', 'Contact']\n",
      "[]\n",
      "['Hrahl', '20', '9730942181']\n",
      "[]\n"
     ]
    }
   ],
   "source": [
    "with open(\"data.csv\",\"r\")as file:\n",
    "    read_obj=csv.reader(file)\n",
    "    for i in read_obj:\n",
    "        print(i)"
   ]
  }
 ],
 "metadata": {
  "kernelspec": {
   "display_name": "Python 3",
   "language": "python",
   "name": "python3"
  },
  "language_info": {
   "codemirror_mode": {
    "name": "ipython",
    "version": 3
   },
   "file_extension": ".py",
   "mimetype": "text/x-python",
   "name": "python",
   "nbconvert_exporter": "python",
   "pygments_lexer": "ipython3",
   "version": "3.8.3"
  }
 },
 "nbformat": 4,
 "nbformat_minor": 4
}

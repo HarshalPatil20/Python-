{
 "cells": [
  {
   "cell_type": "code",
   "execution_count": 1,
   "metadata": {},
   "outputs": [
    {
     "name": "stdout",
     "output_type": "stream",
     "text": [
      "10/0 is impossible\n"
     ]
    }
   ],
   "source": [
    "try:\n",
    "    a=10/0\n",
    "except ZeroDivisionError:\n",
    "    print(\"10/0 is impossible\")\n",
    "else:\n",
    "    print(\"no errors\")"
   ]
  },
  {
   "cell_type": "raw",
   "metadata": {},
   "source": [
    "Raising errors"
   ]
  },
  {
   "cell_type": "code",
   "execution_count": 4,
   "metadata": {},
   "outputs": [
    {
     "name": "stdout",
     "output_type": "stream",
     "text": [
      "enter a number:2\n",
      "It is a number\n"
     ]
    }
   ],
   "source": [
    "a=input(\"enter a number:\")\n",
    "if a.isdigit():\n",
    "    print(\"It is a number\")\n",
    "else:\n",
    "    raise ValueError\n",
    "    "
   ]
  },
  {
   "cell_type": "code",
   "execution_count": null,
   "metadata": {},
   "outputs": [],
   "source": []
  }
 ],
 "metadata": {
  "kernelspec": {
   "display_name": "Python 3",
   "language": "python",
   "name": "python3"
  },
  "language_info": {
   "codemirror_mode": {
    "name": "ipython",
    "version": 3
   },
   "file_extension": ".py",
   "mimetype": "text/x-python",
   "name": "python",
   "nbconvert_exporter": "python",
   "pygments_lexer": "ipython3",
   "version": "3.8.3"
  }
 },
 "nbformat": 4,
 "nbformat_minor": 4
}

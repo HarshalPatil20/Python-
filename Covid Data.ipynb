{
 "cells": [
  {
   "cell_type": "code",
   "execution_count": 1,
   "metadata": {},
   "outputs": [],
   "source": [
    "from covid import Covid"
   ]
  },
  {
   "cell_type": "code",
   "execution_count": 2,
   "metadata": {},
   "outputs": [],
   "source": [
    "instance=Covid()"
   ]
  },
  {
   "cell_type": "code",
   "execution_count": 4,
   "metadata": {},
   "outputs": [],
   "source": [
    "data=instance.get_data()"
   ]
  },
  {
   "cell_type": "code",
   "execution_count": 5,
   "metadata": {},
   "outputs": [
    {
     "data": {
      "text/plain": [
       "{'id': '80',\n",
       " 'country': 'India',\n",
       " 'confirmed': 5815374,\n",
       " 'active': 756116,\n",
       " 'deaths': 92228,\n",
       " 'recovered': 4753150,\n",
       " 'latitude': 20.593684,\n",
       " 'longitude': 78.96288,\n",
       " 'last_update': 1601011401000}"
      ]
     },
     "execution_count": 5,
     "metadata": {},
     "output_type": "execute_result"
    }
   ],
   "source": [
    "instance.get_status_by_country_name(\"India\")"
   ]
  },
  {
   "cell_type": "code",
   "execution_count": 6,
   "metadata": {},
   "outputs": [
    {
     "data": {
      "text/plain": [
       "{'id': '20',\n",
       " 'country': 'Bhutan',\n",
       " 'confirmed': 263,\n",
       " 'active': 65,\n",
       " 'deaths': 0,\n",
       " 'recovered': 198,\n",
       " 'latitude': 27.5142,\n",
       " 'longitude': 90.4336,\n",
       " 'last_update': 1601011401000}"
      ]
     },
     "execution_count": 6,
     "metadata": {},
     "output_type": "execute_result"
    }
   ],
   "source": [
    "instance.get_status_by_country_id(20)"
   ]
  },
  {
   "cell_type": "code",
   "execution_count": 7,
   "metadata": {},
   "outputs": [
    {
     "data": {
      "text/plain": [
       "{'id': '131',\n",
       " 'country': 'Pakistan',\n",
       " 'confirmed': 309015,\n",
       " 'active': 7831,\n",
       " 'deaths': 6444,\n",
       " 'recovered': 294740,\n",
       " 'latitude': 30.3753,\n",
       " 'longitude': 69.3451,\n",
       " 'last_update': 1601011401000}"
      ]
     },
     "execution_count": 7,
     "metadata": {},
     "output_type": "execute_result"
    }
   ],
   "source": [
    "instance.get_status_by_country_name(\"Pakistan\")"
   ]
  },
  {
   "cell_type": "code",
   "execution_count": null,
   "metadata": {},
   "outputs": [],
   "source": []
  },
  {
   "cell_type": "code",
   "execution_count": null,
   "metadata": {},
   "outputs": [],
   "source": []
  },
  {
   "cell_type": "code",
   "execution_count": null,
   "metadata": {},
   "outputs": [],
   "source": []
  }
 ],
 "metadata": {
  "kernelspec": {
   "display_name": "Python 3",
   "language": "python",
   "name": "python3"
  },
  "language_info": {
   "codemirror_mode": {
    "name": "ipython",
    "version": 3
   },
   "file_extension": ".py",
   "mimetype": "text/x-python",
   "name": "python",
   "nbconvert_exporter": "python",
   "pygments_lexer": "ipython3",
   "version": "3.8.3"
  }
 },
 "nbformat": 4,
 "nbformat_minor": 4
}

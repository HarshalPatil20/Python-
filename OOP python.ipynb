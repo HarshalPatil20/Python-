{
 "cells": [
  {
   "cell_type": "code",
   "execution_count": 4,
   "metadata": {},
   "outputs": [
    {
     "name": "stdout",
     "output_type": "stream",
     "text": [
      "my name is harsh and may age is19\n",
      "my name is bhus and may age is20\n",
      "my name is miya and may age is20\n",
      "20\n"
     ]
    }
   ],
   "source": [
    "class Student:\n",
    "    \n",
    "    def __init__(self,name,age):\n",
    "        self.name=name\n",
    "        self.age=age## self refer to current object\n",
    "        print(\"my name is {} and may age is{}\".format(self.name,self.age))\n",
    "        \n",
    "\n",
    "\n",
    "std1=Student(\"harsh\",19)\n",
    "std2=Student(\"bhus\",20)\n",
    "##creating an object of class -> instantiaon a class\n",
    "std3=Student(\"miya\",20)\n",
    "print(std2.age)"
   ]
  },
  {
   "cell_type": "code",
   "execution_count": 8,
   "metadata": {},
   "outputs": [
    {
     "name": "stdout",
     "output_type": "stream",
     "text": [
      "<__main__.complexnumber object at 0x00000220B09CA760>\n",
      "<__main__.complexnumber object at 0x00000220B09CA910>\n",
      "15+9i\n"
     ]
    }
   ],
   "source": [
    "class complexnumber:\n",
    "    def __init__(self,real,img):\n",
    "        self.real=real\n",
    "        self.img=img\n",
    "    def __self__(self):\n",
    "        return\"{}+i{}\".format(self.real,self.img)\n",
    "    def __add__(self,other):\n",
    "        x=self.real+other.real\n",
    "        y= self.img+other.img\n",
    "        return \"{}+{}i\".format(x,y)\n",
    "        \n",
    "    \n",
    "num1=complexnumber(5,4)\n",
    "num2=complexnumber(10,5)\n",
    "print(num1)\n",
    "print(num2)\n",
    "print(num1+num2)"
   ]
  },
  {
   "cell_type": "code",
   "execution_count": 10,
   "metadata": {},
   "outputs": [
    {
     "name": "stdout",
     "output_type": "stream",
     "text": [
      "<__main__.car object at 0x00000220B09E5640>\n",
      "55\n"
     ]
    }
   ],
   "source": [
    "class car:\n",
    "    def __init__(self,mileage,color):\n",
    "        self.mileage=mileage\n",
    "        self.color=color\n",
    "    def getmileage(self):\n",
    "        return self.mileage\n",
    "    def getcolor(self):\n",
    "        return self.color\n",
    "    \n",
    "model1=car(55,\"Red\" )  \n",
    "print(model1)\n",
    "print(model1.getmileage())\n",
    "    \n",
    "        "
   ]
  },
  {
   "cell_type": "code",
   "execution_count": null,
   "metadata": {},
   "outputs": [],
   "source": [
    "## Inheritance"
   ]
  },
  {
   "cell_type": "code",
   "execution_count": 5,
   "metadata": {},
   "outputs": [
    {
     "name": "stdout",
     "output_type": "stream",
     "text": [
      "Makingsound\n"
     ]
    }
   ],
   "source": [
    "class animal:\n",
    "    def __init__(self,color):\n",
    "        self.color = color\n",
    "    def introduction(self):\n",
    "        print(\"Hello I am animal\")\n",
    "    def makingsound(self):\n",
    "        print(\"makingsound\")\n",
    "        \n",
    "class Dog:\n",
    "    def __init__(self,color):\n",
    "        self.color=color\n",
    "    def introduction(self):\n",
    "        print(\"I am a Dog\")\n",
    "    def makingsound(self):\n",
    "        print(\"Makingsound\")\n",
    "        \n",
    "        \n",
    "puppy=Dog(\"white\")\n",
    "puppy.makingsound()\n",
    "    \n",
    "        \n",
    "        \n",
    "                        "
   ]
  },
  {
   "cell_type": "code",
   "execution_count": null,
   "metadata": {},
   "outputs": [],
   "source": []
  }
 ],
 "metadata": {
  "kernelspec": {
   "display_name": "Python 3",
   "language": "python",
   "name": "python3"
  },
  "language_info": {
   "codemirror_mode": {
    "name": "ipython",
    "version": 3
   },
   "file_extension": ".py",
   "mimetype": "text/x-python",
   "name": "python",
   "nbconvert_exporter": "python",
   "pygments_lexer": "ipython3",
   "version": "3.8.3"
  }
 },
 "nbformat": 4,
 "nbformat_minor": 4
}

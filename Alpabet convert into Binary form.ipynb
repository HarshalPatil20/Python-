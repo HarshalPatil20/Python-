{
 "cells": [
  {
   "cell_type": "code",
   "execution_count": 2,
   "metadata": {},
   "outputs": [
    {
     "name": "stdout",
     "output_type": "stream",
     "text": [
      "The original string is:Harshal\n",
      "The string after binary conversion:1001000110000111100101110011110100011000011101100\n"
     ]
    }
   ],
   "source": [
    "str1=\"Harshal\"\n",
    "print(\"The original string is:\"+ str(str1))\n",
    "res=''.join(format(ord(i),'b')for i in str1)\n",
    "print(\"The string after binary conversion:\"+str(res))\n"
   ]
  }
 ],
 "metadata": {
  "kernelspec": {
   "display_name": "Python 3",
   "language": "python",
   "name": "python3"
  },
  "language_info": {
   "codemirror_mode": {
    "name": "ipython",
    "version": 3
   },
   "file_extension": ".py",
   "mimetype": "text/x-python",
   "name": "python",
   "nbconvert_exporter": "python",
   "pygments_lexer": "ipython3",
   "version": "3.8.3"
  }
 },
 "nbformat": 4,
 "nbformat_minor": 4
}
